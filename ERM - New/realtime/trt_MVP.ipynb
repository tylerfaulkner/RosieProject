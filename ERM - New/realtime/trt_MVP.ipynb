{
 "cells": [
  {
   "cell_type": "code",
   "execution_count": null,
   "metadata": {},
   "outputs": [],
   "source": [
    "import os\n",
    "import pandas as pd\n",
    "import shutil\n",
    "import uuid\n",
    "\n",
    " \n",
    "import tensorflow as tf\n",
    "from tensorflow.keras.applications.resnet50 import ResNet50, preprocess_input\n",
    "from tensorflow.python.compiler.tensorrt import trt_convert as trt\n",
    "from tensorflow.python.saved_model import signature_constants, tag_constants\n",
    "from tensorflow.python.framework import convert_to_constants\n",
    "from tensorflow.keras.models import load_model\n",
    "\n",
    "import cv2\n",
    "import numpy as np\n",
    "import time\n",
    "import math\n",
    "from tensorflow.keras.models import load_model"
   ]
  },
  {
   "cell_type": "code",
   "execution_count": null,
   "metadata": {},
   "outputs": [],
   "source": [
    "trt_model_dir = f\"./trt_models\""
   ]
  },
  {
   "cell_type": "code",
   "execution_count": null,
   "metadata": {},
   "outputs": [],
   "source": [
    "# load saved model\n",
    "saved_model_loaded = tf.saved_model.load(trt_model_dir, tags=[tag_constants.SERVING])\n",
    "signature_keys = list(saved_model_loaded.signatures.keys())\n",
    "print(signature_keys)\n",
    "\n",
    "infer = saved_model_loaded.signatures['serving_default']\n",
    "print(infer.structured_outputs)"
   ]
  },
  {
   "cell_type": "code",
   "execution_count": null,
   "metadata": {},
   "outputs": [],
   "source": [
    "video=cv2.VideoCapture(1)\n",
    "\n",
    "modelFile = \"../models/res10_300x300_ssd_iter_140000.caffemodel\"\n",
    "configFile = \"../models/deploy.prototxt.txt\"\n",
    "net = cv2.dnn.readNetFromCaffe(configFile, modelFile)\n",
    "\n",
    "labels_dict = {0:'Anger', 1:'Fear', 2:'Happy', 3:'Neutral', 4:'Sad', 5:'Surprise'}\n",
    "\n",
    "counter = 0\n",
    "while True:\n",
    "    counter += 1\n",
    "    ret,frame=video.read()\n",
    "    frame = cv2.flip(frame, 1)\n",
    "    blob = cv2.dnn.blobFromImage(cv2.resize(frame, (300, 300)),\n",
    "                                 1.0, (300, 300), (104.0, 117.0, 123.0))\n",
    "    net.setInput(blob)\n",
    "    faces = net.forward()\n",
    "    h, w = frame.shape[:2]\n",
    "    for i in range(faces.shape[2]):\n",
    "        confidence = faces[0, 0, i, 2]\n",
    "        if confidence > 0.5:\n",
    "            box = faces[0, 0, i, 3:7] * np.array([w, h, w, h])\n",
    "            (x, y, x1, y1) = box.astype(\"int\")\n",
    "            sub_face_img = frame[y:y1, x:x1]\n",
    "            try:\n",
    "                resized = cv2.resize(sub_face_img, (224, 224))\n",
    "                reshaped = np.reshape(resized, (1, 224, 224, 3))\n",
    "             \n",
    "                \n",
    "                tensor = tf.convert_to_tensor(reshaped)\n",
    "                labeling = infer(tensor)\n",
    "                label = labeling['dense_1'].numpy().argmax()\n",
    "                \n",
    "\n",
    "                cv2.rectangle(frame, (x, y), (x1, y1), (0, 0, 255), 1)\n",
    "                cv2.rectangle(frame, (x, y), (x1, y1), (50, 50, 255), 2)\n",
    "                # cv2.rectangle(frame, (x, y - 100), (x1, y), (50, 50, 255), -1)\n",
    "                cv2.rectangle(frame, (x, y - 40), (x1, y), (50, 50, 255), -1)\n",
    "\n",
    "                cv2.putText(frame, labels_dict[label], (x, y - 10), cv2.FONT_HERSHEY_SIMPLEX, 0.8, (255, 255, 255), 2)\n",
    "\n",
    "            except Exception as e:\n",
    "                print(str(e))\n",
    "    frame = cv2.resize(frame, (1920, 1080), fx=0, fy=0, interpolation=cv2.INTER_CUBIC)\n",
    "    cv2.imshow(\"Frame\",frame)\n",
    "    k=cv2.waitKey(1)\n",
    "    if k==ord('q'):\n",
    "        break\n",
    "\n",
    "video.release()\n",
    "cv2.destroyAllWindows()"
   ]
  }
 ],
 "metadata": {
  "interpreter": {
   "hash": "724ed01ea38ca16c67c76bfc36c1f0c759138c5d6ca3267e27d937829186a327"
  },
  "kernelspec": {
   "display_name": "Python 3.6.8 64-bit",
   "language": "python",
   "name": "python3"
  },
  "language_info": {
   "codemirror_mode": {
    "name": "ipython",
    "version": 3
   },
   "file_extension": ".py",
   "mimetype": "text/x-python",
   "name": "python",
   "nbconvert_exporter": "python",
   "pygments_lexer": "ipython3",
   "version": "3.6.8"
  },
  "orig_nbformat": 4
 },
 "nbformat": 4,
 "nbformat_minor": 2
}
